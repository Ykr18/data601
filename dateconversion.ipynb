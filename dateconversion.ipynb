{
 "cells": [
  {
   "cell_type": "markdown",
   "id": "5567fb2e-6d05-499a-a777-bba28519ef91",
   "metadata": {},
   "source": [
    "WEEK 8\n",
    "\n",
    "Complete the function that converts date to day of week\n",
    "\n",
    "The function should pass the doctest\n",
    "\n",
    "A template .ipynb file is provided"
   ]
  },
  {
   "cell_type": "code",
   "execution_count": 30,
   "id": "92073ab3-04e6-43f7-9c32-aeba75bce44f",
   "metadata": {},
   "outputs": [
    {
     "name": "stdout",
     "output_type": "stream",
     "text": [
      "Monday\n",
      "Wednesday\n"
     ]
    }
   ],
   "source": [
    "from datetime import datetime\n",
    "\n",
    "def dtConversion(inp):\n",
    "    \"\"\"\n",
    "    This function takes date in the format MON DAY YEAR  HH:MM(PM/AM)\n",
    "    and returns the day of the week\n",
    "    Assume input string is UTC\n",
    "\n",
    "    >>> convert_datetime_to_dayofweek('Jun 1 2005  1:33PM')\n",
    "    'Wednesday'\n",
    "    >>> convert_datetime_to_dayofweek('Oct 25 2012  2:17AM')\n",
    "    'Thursday'\n",
    "    \"\"\"\n",
    "    dt=datetime.strptime(inp, '%b %d %Y %I:%M%p')\n",
    "    return (dt.strftime('%A'))\n",
    "\n",
    "print(dtConversion('Jun 18 2001  9:15AM')) #Monday\n",
    "print(dtConversion('Dec 12 2012  12:00AM')) #Wednesday"
   ]
  },
  {
   "cell_type": "raw",
   "id": "d4606ac2-b5fb-43d2-89b1-f51a160bd465",
   "metadata": {},
   "source": [
    "Format code\tmeaning\texample\n",
    "%a\tAbbreviated weekday name\tSun, Mon\n",
    "%A\tFull weekday name \tSunday, Monday\n",
    "%w\tWeekday as decimal number\t0…6\n",
    "%d\tDay of the month as a zero-padded decimal\t01, 02\n",
    "%-d\tday of the month as decimal number\t1, 2..\n",
    "%b \tAbbreviated month name\tJan, Feb\n",
    "%m\tmonth as a zero padded decimal number\t01, 02\n",
    "%-m\tmonth as a decimal number\t1, 2\n",
    "%B \tFull month name\tJanuary, February\n",
    "%y\tyear without century as a zero padded decimal number\t99, 00 \n",
    "%-y\tyear without century as a decimal number\t0, 99\n",
    "%Y\tyear with century as a decimal number\t2000, 1999\n",
    "%H\thour(24 hour clock) as a zero padded decimal number\t01, 23\n",
    "%-H\thour(24 hour clock) as a decimal number\t1, 23\n",
    "%I\thour(12 hour clock) as a zero padded decimal number\t01, 12\n",
    "%-I\thour(12 hour clock) as a decimal number\t1, 12\n",
    "%p\tlocale’s AM or PM\tAM, PM\n",
    "%M\tMinute as a zero padded decimal number\t01, 59\n",
    "%-M\tMinute as a decimal number\t1, 59\n",
    "%S\tSecond as a zero padded decimal number\t01, 59\n",
    "%-S\tSecond as a decimal number\t1, 59\n",
    "%f\tmicrosecond as a decimal number, zero padded on the left side\t000000, 999999\n",
    "%z\tUTC offset in the form +HHMM or -HHMM\t \n",
    "%Z\tTime zone name\t \n",
    "%j\tday of the year as a zero padded decimal number\t001, 365\n",
    "%-j\tday of the year as a decimal number\t1, 365\n",
    "%U\tWeek number of the year (Sunday being the first)\t0, 6\n",
    "%W\tWeek number of the year\t00, 53\n",
    "%c\tlocale’s appropriate date and time representation\tMon Sep 30 07:06:05 2013\n",
    "%x\tlocale’s appropriate date representation\t11/30/98\n",
    "%X\tlocale’s appropriate time representation\t10:03:43\n",
    "%%\tA literal ‘%’ character\t%"
   ]
  },
  {
   "cell_type": "code",
   "execution_count": null,
   "id": "3ac81b05-aa66-425e-bbdd-b98cb57234e3",
   "metadata": {},
   "outputs": [],
   "source": []
  }
 ],
 "metadata": {
  "kernelspec": {
   "display_name": "Python 3 (ipykernel)",
   "language": "python",
   "name": "python3"
  },
  "language_info": {
   "codemirror_mode": {
    "name": "ipython",
    "version": 3
   },
   "file_extension": ".py",
   "mimetype": "text/x-python",
   "name": "python",
   "nbconvert_exporter": "python",
   "pygments_lexer": "ipython3",
   "version": "3.12.4"
  }
 },
 "nbformat": 4,
 "nbformat_minor": 5
}
