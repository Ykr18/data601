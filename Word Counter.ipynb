{
 "cells": [
  {
   "cell_type": "code",
   "execution_count": 88,
   "id": "a122004a-9f43-4b1e-aaac-c0800aa4a793",
   "metadata": {},
   "outputs": [
    {
     "name": "stdin",
     "output_type": "stream",
     "text": [
      "Input #Adding a space at the end to count the last word\n"
     ]
    },
    {
     "name": "stdout",
     "output_type": "stream",
     "text": [
      "Word count is 11 and character count is 49\n"
     ]
    }
   ],
   "source": [
    "#Numbers alphabets,spaces and special characters are considered as characters. \n",
    "#Anything that ends with a space is considered a word\n",
    "#All spaces are striped from front and end of the string and a space is added at the end to count the last word\n",
    "\n",
    "\n",
    "def counter(str):\n",
    "    wc=0\n",
    "    cc=-1 # hard coded a space at the end to count the words so start from -1\n",
    "    i=0\n",
    "    while i<len(str):\n",
    "        try:\n",
    "            av=ord(str[i])\n",
    "            if(av==32 and ord(str[i-1])!=32):#if its a space and a behind it is a character then word counter is increased\n",
    "                wc+=1\n",
    "            cc+=1 #if its anything then character counter is increased\n",
    "        except IndexError: # checking index error for the first if condition\n",
    "            pass\n",
    "        i+=1\n",
    "    return wc,cc\n",
    "\n",
    "\n",
    "str=input('Input') \n",
    "str=str.strip()+' '#Stripping space from both ends and adding a space at the end to count the last word\n",
    "words,characters=counter(str)\n",
    "if(words!=0 or characters!=0):\n",
    "    print('Word count is',words,'and','character count is',characters)\n",
    "elif(words==0 and characters==-1):\n",
    "    print('I have no words')"
   ]
  }
 ],
 "metadata": {
  "kernelspec": {
   "display_name": "Python 3 (ipykernel)",
   "language": "python",
   "name": "python3"
  },
  "language_info": {
   "codemirror_mode": {
    "name": "ipython",
    "version": 3
   },
   "file_extension": ".py",
   "mimetype": "text/x-python",
   "name": "python",
   "nbconvert_exporter": "python",
   "pygments_lexer": "ipython3",
   "version": "3.12.4"
  }
 },
 "nbformat": 4,
 "nbformat_minor": 5
}
