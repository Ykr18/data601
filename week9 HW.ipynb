{
 "cells": [
  {
   "cell_type": "code",
   "execution_count": 1,
   "id": "d6be4dca-042c-473b-9eca-3549ab202dff",
   "metadata": {},
   "outputs": [],
   "source": [
    "import os \n",
    "import glob \n",
    "import string \n",
    "from collections import Counter \n",
    "from nltk.corpus import stopwords\n",
    "from docx import Document"
   ]
  },
  {
   "cell_type": "code",
   "execution_count": 3,
   "id": "a918d8de-d756-4143-b392-ded109fdaa3f",
   "metadata": {},
   "outputs": [],
   "source": [
    "#reading text files with different encodings\n",
    "def readTxt(path):\n",
    "    encodings = ['utf-8', 'utf-16','latin-1', 'ascii']\n",
    "    for enc in encodings:\n",
    "        try:\n",
    "            with open(path, 'r', encoding=enc) as file:\n",
    "                return file.read().lower()\n",
    "        except UnicodeDecodeError:\n",
    "            continue\n",
    "\n",
    "#reading docx files\n",
    "def readDocx(path):\n",
    "    doc = Document(path)\n",
    "    text = \"\\n\".join([para.text for para in doc.paragraphs])\n",
    "    return text.lower()\n",
    "\n",
    "\n",
    "def removeWords(file):\n",
    "    #if its a docx file read using readDocx() function otherwise read it with readTxt() \n",
    "    if file.endswith('.docx'):\n",
    "        text = readDocx(file)\n",
    "    else:\n",
    "        text = readTxt(file)\n",
    "        \n",
    "    text = text.translate(translator) #Removing punctuation from the text using the translator created earlier.\n",
    "    words = text.split() #splitting the words in into a list of words, tokenizing the words\n",
    "    words = [word for word in words if word not in stopWords] #removing stop words\n",
    "    output = list(set(words))\n",
    "    return output"
   ]
  },
  {
   "cell_type": "code",
   "execution_count": 5,
   "id": "8b2dfa71-da29-4795-b0a0-0607ab9c26d6",
   "metadata": {},
   "outputs": [],
   "source": [
    "folderLoc= glob.glob('week_10_txt_and_docx/*.txt') + glob.glob('week_10_txt_and_docx/*.docx')\n",
    "#glob creates a list of txt and docx files in week_10_txt_and_docx folder\n",
    "\n",
    "stopWords=set(stopwords.words('english')) #creating a set of stop words in nltk library\n",
    "translator=str.maketrans('', '', string.punctuation)#removing punctuation marks\n",
    "\n",
    "output = {}\n",
    "#looping through each file in the path, to pass it to removeWords function to \n",
    "for file in folderLoc:\n",
    "    words=removeWords(file)\n",
    "    output[file]=words\n",
    "\n",
    "#writing the output\n",
    "with open('output.dat', 'w', encoding='utf-8') as opt:\n",
    "    for name, words in output.items():\n",
    "        opt.write(f'\"{name}\" : {\", \".join(words)}\\n\\n\\n\\n')\n"
   ]
  },
  {
   "cell_type": "markdown",
   "id": "57183634-bc17-4d94-b1ef-32f1437214bc",
   "metadata": {},
   "source": [
    "Code references-\n",
    "1. https://www.geeksforgeeks.org/how-to-use-glob-function-to-find-files-recursively-in-python/\n",
    "2. https://www.geeksforgeeks.org/removing-stop-words-nltk-python/\n",
    "3. https://stackoverflow.com/questions/25228106/how-to-extract-text-from-an-existing-docx-file-using-python-docx\n",
    "4. https://www.w3schools.com/python/ref_string_maketrans.asp\n"
   ]
  },
  {
   "cell_type": "code",
   "execution_count": null,
   "id": "9f150584-a184-4a1d-8521-5ceac3b4ac0a",
   "metadata": {},
   "outputs": [],
   "source": []
  }
 ],
 "metadata": {
  "kernelspec": {
   "display_name": "Python 3 (ipykernel)",
   "language": "python",
   "name": "python3"
  },
  "language_info": {
   "codemirror_mode": {
    "name": "ipython",
    "version": 3
   },
   "file_extension": ".py",
   "mimetype": "text/x-python",
   "name": "python",
   "nbconvert_exporter": "python",
   "pygments_lexer": "ipython3",
   "version": "3.12.4"
  }
 },
 "nbformat": 4,
 "nbformat_minor": 5
}
