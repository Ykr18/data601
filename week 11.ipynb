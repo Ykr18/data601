{
 "cells": [
  {
   "cell_type": "code",
   "execution_count": 10,
   "id": "205bc5a7-b373-4151-8865-2a85ba841e28",
   "metadata": {},
   "outputs": [],
   "source": [
    "import glob\n",
    "import pandas as pd\n",
    "import os"
   ]
  },
  {
   "cell_type": "code",
   "execution_count": 12,
   "id": "2b822518-0603-45db-8243-184967a4dd3f",
   "metadata": {},
   "outputs": [],
   "source": [
    "def getAllFiles(directory):\n",
    "    '''\n",
    "    Getting all the files that end with ipynb in the directory and its subdirectories using glob glob\n",
    "    **-> checks all subdirectories\n",
    "    '''\n",
    "    pattern=os.path.join(directory,'**', '*.ipynb')\n",
    "    files=glob.glob(pattern)\n",
    "    print(files)#all ipynb files printed below\n",
    "    return files"
   ]
  },
  {
   "cell_type": "code",
   "execution_count": 14,
   "id": "3daf7a7a-ae23-4bc1-821a-eeb3499cb82d",
   "metadata": {},
   "outputs": [],
   "source": [
    "# Function to extract modules and count lines of code\n",
    "def extractModules(filename):\n",
    "    '''\n",
    "    This function extracts the module names and counts the total number of lines of code.\n",
    "    '''\n",
    "    with open(filename, 'r', encoding='utf-8') as file:\n",
    "        notebook = json.load(file)  # reading the ipynb file as JSON\n",
    "        modules = set()\n",
    "        count=0\n",
    "        for cell in notebook['cells']:  # reading the cells of the notebook\n",
    "            if cell['cell_type'] == 'code':  # if the cell is code, then perform further operations\n",
    "                for line in cell['source']:  # iterate through each line of the source code\n",
    "                    line = line.strip()  # strip any leading or trailing whitespace\n",
    "                    count += 1  # count the line\n",
    "                    if line.startswith('from '):  # check if the line starts with 'from'\n",
    "                        module = line.split(' ')[1]  # if it starts with 'from', split the line after spaces\n",
    "                        modules.add(module.split('.')[0])  # add the base module name\n",
    "                    elif line.startswith('import '):  # check if the line starts with 'import'\n",
    "                        parts = line.split(' ')  # if it starts with 'import', split the line after spaces\n",
    "                        for part in parts[1:]:  # iterate through the parts after 'import'\n",
    "                            if part == 'as':  # if there is 'as', it's an alias so skip it\n",
    "                                break\n",
    "                            modules.add(part.split(',')[0].split('.')[0])  # add the base module name\n",
    "        return modules, count"
   ]
  },
  {
   "cell_type": "code",
   "execution_count": 16,
   "id": "6706fcf4-c751-4375-8850-ffd1dc3e23c3",
   "metadata": {},
   "outputs": [
    {
     "name": "stdout",
     "output_type": "stream",
     "text": [
      "['C:\\\\Users\\\\Yatharth\\\\Desktop\\\\Sem1\\\\Data 601\\\\Project 1\\\\Project.ipynb', 'C:\\\\Users\\\\Yatharth\\\\Desktop\\\\Sem1\\\\Data 601\\\\Project 1\\\\Untitled.ipynb', 'C:\\\\Users\\\\Yatharth\\\\Desktop\\\\Sem1\\\\Data 601\\\\Project 2\\\\Project2.ipynb', 'C:\\\\Users\\\\Yatharth\\\\Desktop\\\\Sem1\\\\Data 601\\\\Project 2\\\\Untitled.ipynb', 'C:\\\\Users\\\\Yatharth\\\\Desktop\\\\Sem1\\\\Data 601\\\\week 1 data format\\\\load_csv.ipynb', 'C:\\\\Users\\\\Yatharth\\\\Desktop\\\\Sem1\\\\Data 601\\\\week 1 data format\\\\load_json.ipynb', 'C:\\\\Users\\\\Yatharth\\\\Desktop\\\\Sem1\\\\Data 601\\\\week 1 data format\\\\load_xml.ipynb', 'C:\\\\Users\\\\Yatharth\\\\Desktop\\\\Sem1\\\\Data 601\\\\Week 10\\\\Week 10.ipynb', 'C:\\\\Users\\\\Yatharth\\\\Desktop\\\\Sem1\\\\Data 601\\\\week 11\\\\week 11.ipynb', 'C:\\\\Users\\\\Yatharth\\\\Desktop\\\\Sem1\\\\Data 601\\\\Week 3\\\\Untitled.ipynb', 'C:\\\\Users\\\\Yatharth\\\\Desktop\\\\Sem1\\\\Data 601\\\\week 3 homework\\\\Untitled.ipynb', 'C:\\\\Users\\\\Yatharth\\\\Desktop\\\\Sem1\\\\Data 601\\\\week 3 homework\\\\Week 3.ipynb', 'C:\\\\Users\\\\Yatharth\\\\Desktop\\\\Sem1\\\\Data 601\\\\Week 4\\\\Untitled.ipynb', 'C:\\\\Users\\\\Yatharth\\\\Desktop\\\\Sem1\\\\Data 601\\\\Week 5\\\\Untitled.ipynb', 'C:\\\\Users\\\\Yatharth\\\\Desktop\\\\Sem1\\\\Data 601\\\\Week 5\\\\Untitled1.ipynb', 'C:\\\\Users\\\\Yatharth\\\\Desktop\\\\Sem1\\\\Data 601\\\\Week 5\\\\Untitled2.ipynb', 'C:\\\\Users\\\\Yatharth\\\\Desktop\\\\Sem1\\\\Data 601\\\\Week 5\\\\Week 5 HW.ipynb', 'C:\\\\Users\\\\Yatharth\\\\Desktop\\\\Sem1\\\\Data 601\\\\Week 6\\\\week 6 hw-Copy1.ipynb', 'C:\\\\Users\\\\Yatharth\\\\Desktop\\\\Sem1\\\\Data 601\\\\Week 6\\\\week 6 hw.ipynb']\n"
     ]
    }
   ],
   "source": [
    "directory = r'C:\\Users\\Yatharth\\Desktop\\Sem1\\Data 601'\n",
    "ipynbFiles=getAllFiles(directory)\n",
    "# Loop through each file and extract unique modules\n",
    "lines= 0\n",
    "output=set()\n",
    "for i in ipynbFiles:\n",
    "    modules,line=extractModules(i)#calling to extract modules\n",
    "    output.update(modules)\n",
    "    lines+=line"
   ]
  },
  {
   "cell_type": "code",
   "execution_count": 18,
   "id": "d5bf196a-c8c4-4c7f-a8ad-a6ce69a95b43",
   "metadata": {},
   "outputs": [
    {
     "data": {
      "text/plain": [
       "{'bs4',\n",
       " 'chardet',\n",
       " 'collections',\n",
       " 'csv',\n",
       " 'discogs_client',\n",
       " 'glob',\n",
       " 'json',\n",
       " 'matplotlib',\n",
       " 'numba',\n",
       " 'numpy',\n",
       " 'openpyxl',\n",
       " 'os',\n",
       " 'pandas',\n",
       " 'pprint',\n",
       " 'random',\n",
       " 're',\n",
       " 'requests',\n",
       " 'seaborn',\n",
       " 'time',\n",
       " 'xml',\n",
       " 'xmltodict'}"
      ]
     },
     "execution_count": 18,
     "metadata": {},
     "output_type": "execute_result"
    }
   ],
   "source": [
    "output"
   ]
  },
  {
   "cell_type": "code",
   "execution_count": 20,
   "id": "a61b3a45-f238-4204-aac0-eb400a27c1d4",
   "metadata": {},
   "outputs": [
    {
     "data": {
      "text/plain": [
       "868"
      ]
     },
     "execution_count": 20,
     "metadata": {},
     "output_type": "execute_result"
    }
   ],
   "source": [
    "lines"
   ]
  },
  {
   "cell_type": "code",
   "execution_count": null,
   "id": "20d86c89-c736-433b-a4e8-5dd5640dc4c1",
   "metadata": {},
   "outputs": [],
   "source": []
  }
 ],
 "metadata": {
  "kernelspec": {
   "display_name": "Python 3 (ipykernel)",
   "language": "python",
   "name": "python3"
  },
  "language_info": {
   "codemirror_mode": {
    "name": "ipython",
    "version": 3
   },
   "file_extension": ".py",
   "mimetype": "text/x-python",
   "name": "python",
   "nbconvert_exporter": "python",
   "pygments_lexer": "ipython3",
   "version": "3.12.4"
  }
 },
 "nbformat": 4,
 "nbformat_minor": 5
}
