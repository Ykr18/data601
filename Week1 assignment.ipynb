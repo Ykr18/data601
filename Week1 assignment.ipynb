{
 "cells": [
  {
   "cell_type": "markdown",
   "id": "3ff6207e-7130-4f97-8c40-06755a3a6b01",
   "metadata": {},
   "source": [
    "# Problem Statement and Breakdown"
   ]
  },
  {
   "cell_type": "markdown",
   "id": "4cf872ef-de27-422d-9502-cddc291659e6",
   "metadata": {},
   "source": [
    "**Suppose the course grade is based on 30 assignments (each scored 0 to 100), three projects (each scored 0 to 100), and attendance in 15 classes (each scored as present or absent). The assignments account for 30% of the course grade, the projects are 20% each (60% total), and attendance is 10% of the course grade. Suppose 10 of the 30 assignments are included in the final course score. The 10 are randomly selected. Letter grades are defined in the syllabus​.**\n",
    "\n",
    "**Turned in code+documentation+visualization in a Jupyter notebook that runs without errors in under 3 minutes, is less than 0.5MB in size, and solves homework assignment: maximum of 100 points.**"
   ]
  },
  {
   "cell_type": "raw",
   "id": "7ccaab33-07fe-4868-b68f-477effa88b55",
   "metadata": {},
   "source": [
    "Breakdown-\n",
    "\n",
    "10 out of 30 assignments, 0-100,  30%\n",
    "3 projects, 0-100, 60%\n",
    "15 classes, A or P, 10%\n",
    "\n",
    "Letter grades defined in syllabus-\n",
    "97.00 to 100%\tA \n",
    "90.00 to 96.99%\tA-\n",
    "87.00 to 89.99%\tB+\n",
    "84.00 to 86.99%\tB\n",
    "80.00 to 83.99%\tB-\n",
    "77.00 to 79.99%\tC+\n",
    "74.00 to 76.99%\tC\n",
    "70.00 to 73.99%\tC-\n",
    "60 to 69%\t    D\n",
    "<60\t            F"
   ]
  },
  {
   "cell_type": "raw",
   "id": "b14104ce-ebf2-4c3e-a358-1654641bf673",
   "metadata": {},
   "source": [
    "First lets breakdown assignments, there are a total of 30 assignments, out of which **10 would be randomly selected**.\n",
    "The assignments are worth 30%, so each assignment carry 3% in the total grade, which is distributed as follows-\n",
    "0         0\n",
    "1 to 19   0.5\n",
    "20 to 39  1\n",
    "40 to 59  1.5\n",
    "60 to 79  2\n",
    "80 to 89  2.5\n",
    "90 to 100 3\n",
    "\n",
    "Similarly there are 3 projects, each are worth 20% on the total grade and scored on 0 to 100. My marks distribution is as follows-\n",
    "0         0\n",
    "1 to  19  5\n",
    "20 to 39  8\n",
    "40 to 59  10\n",
    "60 to 79  15\n",
    "80 to 89  18\n",
    "90 to 100 20\n",
    "\n",
    "Breakdown of attendance is as follows-\n",
    "=15       10\n",
    "11 to 14  8\n",
    "7 to 10   6  \n",
    "4 to 6    4\n",
    "1 to 3    2\n",
    "0         0  "
   ]
  },
  {
   "cell_type": "markdown",
   "id": "c6941fb8-acec-4c63-a45e-d0ebebf5f47c",
   "metadata": {},
   "source": [
    "# CODE"
   ]
  },
  {
   "cell_type": "code",
   "execution_count": 116,
   "id": "383576c9-14c0-4226-89a5-428ba7a1472a",
   "metadata": {},
   "outputs": [
    {
     "name": "stdout",
     "output_type": "stream",
     "text": [
      "Index of assignments to be graded \n",
      " [3, 5, 6, 9, 11, 13, 14, 15, 26, 28]\n"
     ]
    }
   ],
   "source": [
    "import pandas as pd\n",
    "import random as rd\n",
    "\n",
    "def rdnumber(num,s,e):\n",
    "    return rd.sample(range(s, e + 1), num)#returns 'num' unique random numbers from a 'start' to 'end' range index\n",
    "#Creating data and loading it into dataframe\n",
    "student_Data={\n",
    "    \"Name\":['Soumya','Yatharth','Mitaali','Ajay'],\n",
    "    \"Assignments\":[\n",
    "        rdnumber(30,0,100),\n",
    "        rdnumber(30,0,100),\n",
    "        rdnumber(30,0,100),\n",
    "        rdnumber(30,0,100)\n",
    "    ],\n",
    "    \"Projects\":[\n",
    "        rdnumber(3,0,100),\n",
    "        rdnumber(3,0,100),\n",
    "        rdnumber(3,0,100),\n",
    "        rdnumber(3,0,100)\n",
    "    ],\n",
    "    \"Attendance\":[\n",
    "        rdnumber(1,0,15),\n",
    "        rdnumber(1,0,15),\n",
    "        rdnumber(1,0,15),\n",
    "        rdnumber(1,0,15)\n",
    "    ]\n",
    "}\n",
    "#There are 3 students in student_data\n",
    "df=pd.DataFrame(student_Data)\n",
    "\n",
    "#Selecting 10 random indexes of assignments to be graded. This stays the same for all students\n",
    "idxAsg=sorted(rdnumber(10,0,29))\n",
    "print('Index of assignments to be graded \\n',idxAsg)"
   ]
  },
  {
   "cell_type": "code",
   "execution_count": 117,
   "id": "3ff81c1e-5992-4bca-a2e0-0f1a08f0f637",
   "metadata": {},
   "outputs": [
    {
     "data": {
      "text/html": [
       "<div>\n",
       "<style scoped>\n",
       "    .dataframe tbody tr th:only-of-type {\n",
       "        vertical-align: middle;\n",
       "    }\n",
       "\n",
       "    .dataframe tbody tr th {\n",
       "        vertical-align: top;\n",
       "    }\n",
       "\n",
       "    .dataframe thead th {\n",
       "        text-align: right;\n",
       "    }\n",
       "</style>\n",
       "<table border=\"1\" class=\"dataframe\">\n",
       "  <thead>\n",
       "    <tr style=\"text-align: right;\">\n",
       "      <th></th>\n",
       "      <th>Name</th>\n",
       "      <th>Assignments</th>\n",
       "      <th>Projects</th>\n",
       "      <th>Attendance</th>\n",
       "    </tr>\n",
       "  </thead>\n",
       "  <tbody>\n",
       "    <tr>\n",
       "      <th>0</th>\n",
       "      <td>Soumya</td>\n",
       "      <td>[32, 90, 64, 56, 98, 0, 95, 78, 58, 7, 47, 97,...</td>\n",
       "      <td>[20, 68, 55]</td>\n",
       "      <td>[2]</td>\n",
       "    </tr>\n",
       "    <tr>\n",
       "      <th>1</th>\n",
       "      <td>Yatharth</td>\n",
       "      <td>[9, 78, 4, 73, 99, 57, 63, 46, 91, 68, 29, 90,...</td>\n",
       "      <td>[29, 5, 28]</td>\n",
       "      <td>[5]</td>\n",
       "    </tr>\n",
       "    <tr>\n",
       "      <th>2</th>\n",
       "      <td>Mitaali</td>\n",
       "      <td>[60, 20, 10, 23, 4, 9, 73, 61, 59, 14, 43, 80,...</td>\n",
       "      <td>[82, 98, 77]</td>\n",
       "      <td>[14]</td>\n",
       "    </tr>\n",
       "    <tr>\n",
       "      <th>3</th>\n",
       "      <td>Ajay</td>\n",
       "      <td>[63, 27, 96, 9, 31, 40, 2, 76, 20, 80, 74, 43,...</td>\n",
       "      <td>[10, 7, 71]</td>\n",
       "      <td>[6]</td>\n",
       "    </tr>\n",
       "  </tbody>\n",
       "</table>\n",
       "</div>"
      ],
      "text/plain": [
       "       Name                                        Assignments      Projects  \\\n",
       "0    Soumya  [32, 90, 64, 56, 98, 0, 95, 78, 58, 7, 47, 97,...  [20, 68, 55]   \n",
       "1  Yatharth  [9, 78, 4, 73, 99, 57, 63, 46, 91, 68, 29, 90,...   [29, 5, 28]   \n",
       "2   Mitaali  [60, 20, 10, 23, 4, 9, 73, 61, 59, 14, 43, 80,...  [82, 98, 77]   \n",
       "3      Ajay  [63, 27, 96, 9, 31, 40, 2, 76, 20, 80, 74, 43,...   [10, 7, 71]   \n",
       "\n",
       "  Attendance  \n",
       "0        [2]  \n",
       "1        [5]  \n",
       "2       [14]  \n",
       "3        [6]  "
      ]
     },
     "execution_count": 117,
     "metadata": {},
     "output_type": "execute_result"
    }
   ],
   "source": [
    "df.head()"
   ]
  },
  {
   "cell_type": "code",
   "execution_count": 118,
   "id": "dd3120ae-5882-4f3e-a375-ecbe50b25cb7",
   "metadata": {},
   "outputs": [
    {
     "data": {
      "text/plain": [
       "0    [2]\n",
       "Name: Attendance, dtype: object"
      ]
     },
     "execution_count": 118,
     "metadata": {},
     "output_type": "execute_result"
    }
   ],
   "source": [
    "df.iloc[:1,3]"
   ]
  },
  {
   "cell_type": "code",
   "execution_count": 119,
   "id": "0d9a8603-6706-43f8-8351-f97b67448f45",
   "metadata": {},
   "outputs": [
    {
     "data": {
      "text/plain": [
       "0    [2]\n",
       "Name: Attendance, dtype: object"
      ]
     },
     "execution_count": 119,
     "metadata": {},
     "output_type": "execute_result"
    }
   ],
   "source": [
    "df.iloc[0:1,3]"
   ]
  },
  {
   "cell_type": "code",
   "execution_count": 120,
   "id": "9a5e5900-66fb-4129-83a2-8bbb2e26f341",
   "metadata": {},
   "outputs": [
    {
     "data": {
      "text/plain": [
       "0    [32, 90, 64, 56, 98, 0, 95, 78, 58, 7, 47, 97,...\n",
       "1    [9, 78, 4, 73, 99, 57, 63, 46, 91, 68, 29, 90,...\n",
       "2    [60, 20, 10, 23, 4, 9, 73, 61, 59, 14, 43, 80,...\n",
       "3    [63, 27, 96, 9, 31, 40, 2, 76, 20, 80, 74, 43,...\n",
       "Name: Assignments, dtype: object"
      ]
     },
     "execution_count": 120,
     "metadata": {},
     "output_type": "execute_result"
    }
   ],
   "source": [
    "df.iloc[:,1]"
   ]
  },
  {
   "cell_type": "markdown",
   "id": "64d15350-f8e8-408d-9406-7d5225936390",
   "metadata": {},
   "source": [
    "### EXTRACTING DATA FROM DATAFRAME FOR THE SELECTED STUDENT"
   ]
  },
  {
   "cell_type": "code",
   "execution_count": 157,
   "id": "b3aca5d1-1e86-45cf-b056-a599cbeea51d",
   "metadata": {},
   "outputs": [],
   "source": [
    "#Calculating total grades for student1, can be used to calculate grade for any other student as well\n",
    "def extraction(stdName):\n",
    "    #Get all assignments of the selected student\n",
    "    asg=df.loc[df['Name']==stdName,'Assignments']\n",
    "    \n",
    "    #Iterate over idxAsg to store only these indexes of the assignments\n",
    "    selectedAsg=[]\n",
    "    for i in idxAsg:\n",
    "        score=asg.iloc[0][i]\n",
    "        selectedAsg.append(score)\n",
    "\n",
    "    #in the df dataframe values of all projects whos name is stdName\n",
    "    #using iloc[0] returns a list, from a series\n",
    "    projects=df.loc[df['Name']==stdName,'Projects'].iloc[0]\n",
    "    \n",
    "    #in the df dataframe values of all attendance whos name is stdName\n",
    "    attd=df.loc[df['Name']==stdName,'Attendance'].iloc[0]\n",
    "\n",
    "    return selectedAsg,projects,attd"
   ]
  },
  {
   "cell_type": "markdown",
   "id": "7e57d346-a603-430b-af5a-11738afc083c",
   "metadata": {},
   "source": [
    "### Calculating grades"
   ]
  },
  {
   "cell_type": "code",
   "execution_count": 124,
   "id": "8c0d43c9-a978-4a25-b25a-7a72d1801290",
   "metadata": {
    "scrolled": true
   },
   "outputs": [],
   "source": [
    "#Getting letter grade\n",
    "def gradeCalc(num):\n",
    "    if totalgrade>=97.00 and totalgrade<=100:\n",
    "        courseGrade='A'\n",
    "    elif totalgrade>=90.00 and totalgrade<=96.99:\n",
    "        courseGrade='A-'\n",
    "    elif totalgrade>=87.00 and totalgrade<=89.99:\n",
    "        courseGrade='B+'\n",
    "    elif totalgrade>=84.00 and totalgrade<=86.99:\n",
    "        courseGrade='B'\n",
    "    elif totalgrade>=80.00 and totalgrade<=83.99:\n",
    "        courseGrade='B-'\n",
    "    elif totalgrade>=77.00 and totalgrade<=79.99:\n",
    "        courseGrade='C+'\n",
    "    elif totalgrade>=74.00 and totalgrade<=76.99:\n",
    "        courseGrade='C'\n",
    "    elif totalgrade>=70.00 and totalgrade<=73.99:\n",
    "        courseGrade='C-'\n",
    "    elif totalgrade>=60.00 and totalgrade<=69.99:\n",
    "        courseGrade='D'\n",
    "    else:\n",
    "        courseGrade='F'\n",
    "    return courseGrade\n",
    "    \n",
    "\n",
    "#Function for calculating assignment scores\n",
    "def asgScores(num):\n",
    "    if num==0:\n",
    "        return 0\n",
    "    elif num>=1 and num<=19:\n",
    "        return 0.5\n",
    "    elif num>=20 and num<=39:\n",
    "        return 1\n",
    "    elif num>=40 and num<=59:\n",
    "        return 1.5\n",
    "    elif num>=60 and num<=79:\n",
    "        return 2\n",
    "    elif num>=80 and num<=89:\n",
    "        return 2.5\n",
    "    else:\n",
    "        return 3\n",
    "\n",
    "\n",
    "#Function for calculating project scores\n",
    "def projectScores(num):\n",
    "    if num==0:\n",
    "        return 0\n",
    "    elif num>=1 and num<=19:\n",
    "        return 5\n",
    "    elif num>=20 and num<=39:\n",
    "        return 8\n",
    "    elif num>=40 and num<=59:\n",
    "        return 10\n",
    "    elif num>=60 and num<=79:\n",
    "        return 15\n",
    "    elif num>=80 and num<=89:\n",
    "        return 18\n",
    "    else:\n",
    "        return 20\n",
    "\n",
    "\n",
    "#Function for calculating attendance scores\n",
    "def atdScores(num):\n",
    "    if num==15:\n",
    "        return 10\n",
    "    elif num>=11 and num<=14:\n",
    "        return 8\n",
    "    elif num>=7 and num<=10:\n",
    "        return 6\n",
    "    elif num>=4 and num<=6:\n",
    "        return 4\n",
    "    elif num>=1 and num<=3:\n",
    "        return 2\n",
    "    else:\n",
    "        return 0\n",
    "\n"
   ]
  },
  {
   "cell_type": "markdown",
   "id": "de2ee269-95e2-4ae7-8734-a911c1cade0e",
   "metadata": {},
   "source": [
    "### User Inputs and calling the functions"
   ]
  },
  {
   "cell_type": "code",
   "execution_count": 155,
   "id": "c587e4fe-36c7-42a5-8aa1-372a8def136b",
   "metadata": {},
   "outputs": [
    {
     "name": "stdout",
     "output_type": "stream",
     "text": [
      "<class 'pandas.core.series.Series'>\n",
      "Final grade for Soumya is: F / 47.5 %\n"
     ]
    },
    {
     "ename": "NameError",
     "evalue": "name 'asg' is not defined",
     "output_type": "error",
     "traceback": [
      "\u001b[1;31m---------------------------------------------------------------------------\u001b[0m",
      "\u001b[1;31mNameError\u001b[0m                                 Traceback (most recent call last)",
      "Cell \u001b[1;32mIn[155], line 18\u001b[0m\n\u001b[0;32m     14\u001b[0m     totalgrade\u001b[38;5;241m+\u001b[39m\u001b[38;5;241m=\u001b[39matdScores(i)\n\u001b[0;32m     17\u001b[0m \u001b[38;5;28mprint\u001b[39m(\u001b[38;5;124m'\u001b[39m\u001b[38;5;124mFinal grade for\u001b[39m\u001b[38;5;124m'\u001b[39m,stdName,\u001b[38;5;124m'\u001b[39m\u001b[38;5;124mis:\u001b[39m\u001b[38;5;124m'\u001b[39m,gradeCalc(totalgrade),\u001b[38;5;124m'\u001b[39m\u001b[38;5;124m/\u001b[39m\u001b[38;5;124m'\u001b[39m, totalgrade,\u001b[38;5;124m'\u001b[39m\u001b[38;5;124m%\u001b[39m\u001b[38;5;124m'\u001b[39m)\n\u001b[1;32m---> 18\u001b[0m \u001b[38;5;28mprint\u001b[39m(\u001b[38;5;28mtype\u001b[39m(asg))\n",
      "\u001b[1;31mNameError\u001b[0m: name 'asg' is not defined"
     ]
    }
   ],
   "source": [
    "totalgrade=0\n",
    "stdName='Soumya'# can use a user input to make it more interactive\n",
    "selectedAsg,projects,attd=extraction(stdName)\n",
    "\n",
    "for i in selectedAsg:\n",
    "    totalgrade+=asgScores(i)\n",
    "\n",
    "#Iterate over projects\n",
    "for i in projects:\n",
    "    totalgrade+=projectScores(i)\n",
    "\n",
    "#Iterate over attendance\n",
    "for i in attd:\n",
    "    totalgrade+=atdScores(i)\n",
    "\n",
    "\n",
    "print('Final grade for',stdName,'is:',gradeCalc(totalgrade),'/', totalgrade,'%')\n",
    "print(type(asg))\n",
    "#print(\"\\n Selected Assignment scores of\",stdName,\"are\",selectedAsg)\n",
    "#print('\\n 3 projects of',stdName,\"are\",projects[0])\n",
    "#print(\"\\n Attendance:\",attd[0])"
   ]
  },
  {
   "cell_type": "markdown",
   "id": "cd47ae45-977f-4cd1-8e09-34c575ff5aa9",
   "metadata": {},
   "source": [
    "### Visualization"
   ]
  },
  {
   "cell_type": "code",
   "execution_count": 128,
   "id": "fbf95f88-c166-4287-8090-95b8c98eae09",
   "metadata": {},
   "outputs": [],
   "source": [
    "import matplotlib.pyplot as plt"
   ]
  },
  {
   "cell_type": "code",
   "execution_count": 129,
   "id": "4797d8c8-e502-427e-8e04-58694420ea78",
   "metadata": {},
   "outputs": [
    {
     "data": {
      "image/png": "[encoded data removed]",
      "text/plain": [
       "<Figure size 640x480 with 1 Axes>"
      ]
     },
     "metadata": {},
     "output_type": "display_data"
    }
   ],
   "source": [
    "#Attendance pie chart\n",
    "atdValues=['Present','Absent']\n",
    "atdData=attd[0],15-attd[0]\n",
    "plt.pie(atdData, labels=atdValues)\n",
    "plt.title(\"Attendance of Student:\"+stdName)\n",
    "plt.show()"
   ]
  },
  {
   "cell_type": "code",
   "execution_count": 130,
   "id": "7e37762e-5b4f-467f-ac27-2073b1c46bac",
   "metadata": {},
   "outputs": [
    {
     "data": {
      "image/png": "[encoded data removed]",
      "text/plain": [
       "<Figure size 640x480 with 1 Axes>"
      ]
     },
     "metadata": {},
     "output_type": "display_data"
    }
   ],
   "source": [
    "#Projects Bar chart of the selected student\n",
    "x=['Project 1','Project 2','Project 3']\n",
    "y=projects\n",
    "\n",
    "plt.bar(x, y)\n",
    "plt.title('Progress throughout Projects')\n",
    "plt.ylim(0,100)\n",
    "plt.show()\n",
    "#plt.ylim sets the range for y-axis, which in our case is from 0 to 100. "
   ]
  },
  {
   "cell_type": "markdown",
   "id": "2d1c72a8-0652-421a-9841-2cfed0cef1e0",
   "metadata": {},
   "source": [
    "### Performance throughout the assignments"
   ]
  },
  {
   "cell_type": "code",
   "execution_count": 132,
   "id": "0753810b-7cf4-4ae5-b47f-439c64f5f243",
   "metadata": {},
   "outputs": [
    {
     "data": {
      "image/png": "[encoded data removed]",
      "text/plain": [
       "<Figure size 640x480 with 1 Axes>"
      ]
     },
     "metadata": {},
     "output_type": "display_data"
    }
   ],
   "source": [
    "x=list(range(1,31))\n",
    "y=df.loc[df['Name']==stdName,'Assignments'].iloc[0] \n",
    "\n",
    "plt.bar(x, y)\n",
    "plt.title('Progress throughout Assignments')\n",
    "plt.ylim(0,100)\n",
    "plt.xticks(x,rotation=70)\n",
    "plt.show()"
   ]
  },
  {
   "cell_type": "raw",
   "id": "19738fff-4fa6-4956-8bb1-761686147fba",
   "metadata": {},
   "source": [
    "References used\n",
    "https://www.geeksforgeeks.org/python-random-module/\n",
    "https://stackoverflow.com/questions/22842289/generate-n-unique-random-numbers-within-a-range\n",
    "https://www.geeksforgeeks.org/python-pandas-series-loc/\n",
    "https://sparkbyexamples.com/pandas/pandas-series-loc-function/#:~:text=Pandas%20Series.,labels%20using%20loc%5B%5D%20function.\n",
    "https://www.geeksforgeeks.org/data-visualization-using-matplotlib/\n",
    "https://www.geeksforgeeks.org/how-to-set-x-axis-values-in-matplotlib-in-python/\n",
    "https://www.geeksforgeeks.org/bar-plot-in-matplotlib/"
   ]
  }
 ],
 "metadata": {
  "kernelspec": {
   "display_name": "Python 3 (ipykernel)",
   "language": "python",
   "name": "python3"
  },
  "language_info": {
   "codemirror_mode": {
    "name": "ipython",
    "version": 3
   },
   "file_extension": ".py",
   "mimetype": "text/x-python",
   "name": "python",
   "nbconvert_exporter": "python",
   "pygments_lexer": "ipython3",
   "version": "3.12.4"
  }
 },
 "nbformat": 4,
 "nbformat_minor": 5
}
