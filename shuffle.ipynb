{
 "cells": [
  {
   "cell_type": "code",
   "execution_count": 65,
   "id": "31b310ce-0f09-457e-bef2-e2eff6a08dd5",
   "metadata": {},
   "outputs": [
    {
     "name": "stdout",
     "output_type": "stream",
     "text": [
      "\n",
      " [54, 5, 9, 412, 12]\n",
      "\n",
      " CAB\n",
      "\n",
      " ['C', 'D', 'E', 'A', 'B']\n",
      "\n",
      " Sorry I cant do that D:\n",
      "\n",
      " Sorry I cant do that D:\n"
     ]
    }
   ],
   "source": [
    "import numpy as np\n",
    "\n",
    "def shift(inp):\n",
    "    try:\n",
    "        return list(np.roll(inp, -2))#all elements are rolled by 2 indexes and first ones are moved to the last, this will work with lists, arrays, sets\n",
    "    except TypeError: \n",
    "        try:#if its a string\n",
    "            return (inp[2:]+inp[:2])\n",
    "        except : #if its anything else that cant be rolled\n",
    "            return('Sorry I cant do that D:')\n",
    "\n",
    "\n",
    "#inp=input(\"Enter\")\n",
    "#print('\\n',shift(inp))\n",
    "print('\\n',shift([412,12,54,5,9]))\n",
    "print('\\n',shift(\"ABC\"))\n",
    "print('\\n',shift(['A', 'B', 'C', 'D', 'E'])) \n",
    "print('\\n',shift({1:'A',2:'B',3:'C'}))\n",
    "print('\\n',shift(123))"
   ]
  },
  {
   "cell_type": "raw",
   "id": "21eca9a1-3b6f-4f53-a2bc-8e18960aafe0",
   "metadata": {},
   "source": [
    "References used:\n",
    "https://www.geeksforgeeks.org/numpy-roll-python/"
   ]
  }
 ],
 "metadata": {
  "kernelspec": {
   "display_name": "Python 3 (ipykernel)",
   "language": "python",
   "name": "python3"
  },
  "language_info": {
   "codemirror_mode": {
    "name": "ipython",
    "version": 3
   },
   "file_extension": ".py",
   "mimetype": "text/x-python",
   "name": "python",
   "nbconvert_exporter": "python",
   "pygments_lexer": "ipython3",
   "version": "3.12.4"
  }
 },
 "nbformat": 4,
 "nbformat_minor": 5
}
