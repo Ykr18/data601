{
 "cells": [
  {
   "cell_type": "code",
   "execution_count": 19,
   "id": "da7a0772-6ede-4849-97b1-9dbd3449c9b8",
   "metadata": {},
   "outputs": [],
   "source": [
    "import pandas as pd\n",
    "import openpyxl as pxl\n",
    "from openpyxl.utils.dataframe import dataframe_to_rows"
   ]
  },
  {
   "cell_type": "code",
   "execution_count": 43,
   "id": "b85c36bb-32e4-4369-b997-6b431d9c69e8",
   "metadata": {},
   "outputs": [],
   "source": [
    "#Load the excel file\n",
    "xl=pd.ExcelFile('week_05_homework_XLSX_openpyxl.xlsx')\n",
    "\n",
    "#Load the worksheets into two different vairables\n",
    "pInfo=pd.read_excel(xl,'patient info')\n",
    "rec=pd.read_excel(xl,'records')\n",
    "\n",
    "#Renaming the 'p_id' column in rec to 'patient id' for merging\n",
    "rec.rename(columns={'p_id': 'patient id'}, inplace=True)"
   ]
  },
  {
   "cell_type": "code",
   "execution_count": 83,
   "id": "f0519e8c-6cf5-4699-aa0a-52a83ceb362b",
   "metadata": {},
   "outputs": [],
   "source": [
    "# Merge the dataframes on 'patient id' columns\n",
    "df=pd.merge(pInfo,rec, on='patient id', how='outer')\n",
    "\n",
    "# Load the workbook and get the original sheets\n",
    "sheets= pxl.load_workbook('week_05_homework_XLSX_openpyxl.xlsx')\n",
    "pInfoXl = sheets['patient info']\n",
    "recXl = sheets['records']\n",
    "\n",
    "#Removing all data from patient_info sheet to add the new merged data \n",
    "for row in pInfoXl.iter_rows(min_row=2):#except header\n",
    "    for cell in row:\n",
    "        cell.value=None"
   ]
  },
  {
   "cell_type": "code",
   "execution_count": 85,
   "id": "c0fa6fca-6196-42b3-9c58-5cce531479b6",
   "metadata": {},
   "outputs": [],
   "source": [
    "#Iterating over the dataframe to copy the data into the new sheet without disturbing the visualization\n",
    "for idxR, rows in enumerate(dataframe_to_rows(df, index=False, header=True), 1):\n",
    "    for idxC, val in enumerate(rows, 1):\n",
    "        pInfoXl.cell(row=idxR, column=idxC, value=val)\n",
    "\n",
    "#Save it into a new excel \n",
    "sheets.save('output.xlsx')"
   ]
  },
  {
   "cell_type": "code",
   "execution_count": null,
   "id": "4a0ec4c9-62c2-4258-a834-f5a63b76a5b1",
   "metadata": {},
   "outputs": [],
   "source": [
    "References used-\n",
    "https://www.w3schools.com/python/pandas/ref_df_merge.asp\n",
    "https://stackoverflow.com/questions/16476924/how-can-i-iterate-over-rows-in-a-pandas-dataframe\n",
    "https://www.geeksforgeeks.org/different-ways-to-iterate-over-rows-in-pandas-dataframe/\n",
    "https://pandas.pydata.org/docs/reference/api/pandas.DataFrame.iterrows.html\n",
    "https://www.pythonexcel.com/delete-sheet.php\n",
    "https://stackoverflow.com/questions/36582460/how-to-clear-a-range-of-values-in-an-excel-workbook-using-openpyxl"
   ]
  }
 ],
 "metadata": {
  "kernelspec": {
   "display_name": "Python 3 (ipykernel)",
   "language": "python",
   "name": "python3"
  },
  "language_info": {
   "codemirror_mode": {
    "name": "ipython",
    "version": 3
   },
   "file_extension": ".py",
   "mimetype": "text/x-python",
   "name": "python",
   "nbconvert_exporter": "python",
   "pygments_lexer": "ipython3",
   "version": "3.12.4"
  }
 },
 "nbformat": 4,
 "nbformat_minor": 5
}
